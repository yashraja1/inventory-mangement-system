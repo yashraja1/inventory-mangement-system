{
  "nbformat": 4,
  "nbformat_minor": 2,
  "metadata": {
    "colab": {
      "name": "JSON Based IMS Solution",
      "provenance": []
    },
    "kernelspec": {
      "name": "python3",
      "display_name": "Python 3"
    },
    "language_info": {
      "name": "python"
    }
  },
  "cells": [
    {
      "cell_type": "markdown",
      "source": [
        "## Loading my Records file"
      ],
      "metadata": {
        "id": "v2RpKjNmRTtY"
      }
    },
    {
      "cell_type": "markdown",
      "source": [
        "## Generating Sales and Record file for the first time"
      ],
      "metadata": {
        "id": "36KxNSi8Rcg7"
      }
    },
    {
      "cell_type": "code",
      "execution_count": 35,
      "source": [
        "fd = open('record.json', 'r')\r\n",
        "t = fd.read()\r\n",
        "fd.close()\r\n",
        "\r\n",
        "fd = open('record.json','w')\r\n",
        "fd.write(t)\r\n",
        "fd.close()\r\n",
        "\r\n",
        "sales = {}\r\n",
        "\r\n",
        "sales = json.dumps(sales)\r\n",
        "\r\n",
        "fd = open(\"sales.json\", 'w')\r\n",
        "fd.write(sales)\r\n",
        "fd.close()"
      ],
      "outputs": [],
      "metadata": {
        "id": "q3bVaZImdkC0"
      }
    },
    {
      "cell_type": "markdown",
      "source": [
        "## Importing Libraries"
      ],
      "metadata": {
        "id": "I1bY_ShwR1mi"
      }
    },
    {
      "cell_type": "code",
      "execution_count": null,
      "source": [
        "import json\r\n",
        "import time"
      ],
      "outputs": [],
      "metadata": {
        "id": "OsuYJTViRbq-"
      }
    },
    {
      "cell_type": "code",
      "execution_count": 36,
      "source": [
        "# Loading Inventory and Converting it to Dictionary\r\n",
        "fd = open('record.json','r')\r\n",
        "t = fd.read()\r\n",
        "fd.close()\r\n",
        "dct = json.loads(t)\r\n",
        "\r\n",
        "# Loading Sales and Converting it to Dictionary\r\n",
        "fd = open(\"sales.json\", 'r')\r\n",
        "sl = fd.read()\r\n",
        "fd.close()\r\n",
        "sales = json.loads(sl)\r\n",
        "\r\n",
        "\r\n",
        "# Displaying Menu\r\n",
        "print(\"**********************************************\")\r\n",
        "for i in dct.keys():\r\n",
        "  print(i, dct[i])\r\n",
        "\r\n",
        "print(\"******************************************\\n\")\r\n",
        "\r\n",
        "# Taking Input from User to Enter what he/she wants to purchase\r\n",
        "ui_prod  = str(input(\"Enter the product_Id: \"))\r\n",
        "ui_quant = int(input(\"Enter the quantity: \"))\r\n",
        "\r\n",
        "\r\n",
        "if (ui_prod in dct.keys()):                                                     \r\n",
        "    if (dct[ui_prod]['qn'] >= ui_quant):                                        \r\n",
        "      print(\"Name:\",dct[ui_prod]['name'])\r\n",
        "      print(\"Price:\",dct[ui_prod]['pr'])\r\n",
        "      print(\"Quantity:\", ui_quant)\r\n",
        "      print(\"------------------------------\")\r\n",
        "      print(\"Billing Amount:\", dct[ui_prod]['pr'] * ui_quant)\r\n",
        "\r\n",
        "      dct[ui_prod]['qn'] = dct[ui_prod]['qn'] - ui_quant                        \r\n",
        "\r\n",
        "      sales[str(len(sales)+1)] = {'prod_id' : ui_prod,                          \r\n",
        "                                  \"time_pr\" :  time.ctime(), \r\n",
        "                                  'bill' : dct[ui_prod]['pr'] * ui_quant, \r\n",
        "                                  'qn' : ui_quant, \r\n",
        "                                  'pr' : dct[ui_prod]['pr'], \r\n",
        "                                  'pr_name' : dct[ui_prod]['name']}\r\n",
        "\r\n",
        "\r\n",
        "    else:                                                                       \r\n",
        "      print(\"Sorry, We are not having that much of quantity.\")\r\n",
        "      print(\"We're only having\",dct[ui_prod]['qn'],\"quantity.\")\r\n",
        "      print(\"Would you like to purchase or not (Y/N)\")\r\n",
        "      ch = str(input(\"Y/N\"))\r\n",
        "\r\n",
        "      if (ch == \"Y\"):                                                          \r\n",
        "        print(\"Name:\",dct[ui_prod]['name'])\r\n",
        "        print(\"Price:\",dct[ui_prod]['pr'])\r\n",
        "        print(\"Quantity:\", dct[ui_prod]['qn'])\r\n",
        "        print(\"------------------------------\")\r\n",
        "        print(\"Billing Amount:\", dct[ui_prod]['pr'] * dct[ui_prod]['qn'])\r\n",
        "\r\n",
        "        dct[ui_prod]['qn'] = 0                                                  \r\n",
        "\r\n",
        "        sales[str(len(sales)+1)] = {'prod_id' : ui_prod,                        \r\n",
        "                                    \"time_pr\" :  time.ctime(), \r\n",
        "                                    'bill' : dct[ui_prod]['pr'] * dct[ui_prod]['qn'], \r\n",
        "                                    'qn' : dct[ui_prod]['qn'], \r\n",
        "                                    'pr' : dct[ui_prod]['pr'], \r\n",
        "                                    'pr_name' : dct[ui_prod]['name']}\r\n",
        "\r\n",
        "      else:                                                                     \r\n",
        "        print(\"Thankyou!\")\r\n",
        "\r\n",
        "else:                                                                           \r\n",
        "  print(\"------------------------------\")\r\n",
        "  print(\"Product doesn't exist!\")\r\n",
        "  print(\"Please enter a valid product id\")\r\n",
        "  print(\"------------------------------\")\r\n",
        "\r\n",
        "\r\n",
        "\r\n",
        "sl = json.dumps(sales)                                                          \r\n",
        "fd = open('sales.json','w')\r\n",
        "fd.write(sl)\r\n",
        "fd.close()\r\n",
        "\r\n",
        "print(\"------------------------------\")\r\n",
        "print(\"Data Updated in Sales File!\")\r\n",
        "\r\n",
        "js = json.dumps(dct)                                                            \r\n",
        "fd = open('record.json','w')\r\n",
        "fd.write(js)\r\n",
        "fd.close()\r\n",
        "\r\n",
        "print(\"Data Updated in Inventory File!\")"
      ],
      "outputs": [
        {
          "output_type": "stream",
          "name": "stdout",
          "text": [
            "**********************************************\n",
            "1001 {'name': 'Choco Cake', 'qn': 34, 'pr': 100}\n",
            "1002 {'name': 'Milk Cake', 'pr': 800, 'qn': 100}\n",
            "1003 {'name': 'Drink', 'pr': 85, 'qn': 100}\n",
            "1004 {'name': 'Candy', 'pr': 5, 'qn': 1000}\n",
            "1005 {'name': 'Pen', 'pr': 20, 'qn': 100}\n",
            "1006 {'name': 'Phone', 'pr': 50000, 'qn': 10}\n",
            "1007 {'name': 'Mic', 'pr': 1500, 'qn': 0}\n",
            "1008 {'name': 'Case', 'pr': 599, 'qn': 5}\n",
            "1009 {'name': 'Keyboard', 'pr': 1999, 'qn': 10}\n",
            "******************************************\n",
            "\n",
            "Enter the product_Id: 1001\n",
            "Enter the quantity: 5\n",
            "Name: Choco Cake\n",
            "Price: 100\n",
            "Quantity: 5\n",
            "------------------------------\n",
            "Billing Amount: 500\n",
            "------------------------------\n",
            "Data Updated in Sales File!\n",
            "Data Updated in Inventory File!\n"
          ]
        }
      ],
      "metadata": {
        "colab": {
          "base_uri": "https://localhost:8080/"
        },
        "id": "eDlvwwR_dn9c",
        "outputId": "361a7434-79f3-413a-9f55-53e7ca3e624b"
      }
    },
    {
      "cell_type": "code",
      "execution_count": 34,
      "source": [
        "dct"
      ],
      "outputs": [
        {
          "output_type": "execute_result",
          "data": {
            "text/plain": [
              "{'1001': {'name': 'Choco Cake', 'pr': 100, 'qn': 25},\n",
              " '1002': {'name': 'Milk Cake', 'pr': 800, 'qn': 99},\n",
              " '1003': {'name': 'Drink', 'pr': 85, 'qn': 100},\n",
              " '1004': {'name': 'Candy', 'pr': 5, 'qn': 900},\n",
              " '1005': {'name': 'Pen', 'pr': 20, 'qn': 100},\n",
              " '1006': {'name': 'Phone', 'pr': 50000, 'qn': 8},\n",
              " '1007': {'name': 'Mic', 'pr': 1500, 'qn': 0},\n",
              " '1008': {'name': 'Case', 'pr': 599, 'qn': 5},\n",
              " '1009': {'name': 'Keyboard', 'pr': 1999, 'qn': 10}}"
            ]
          },
          "metadata": {},
          "execution_count": 34
        }
      ],
      "metadata": {
        "colab": {
          "base_uri": "https://localhost:8080/"
        },
        "id": "16v-WZE7R-Yi",
        "outputId": "4e0e3c26-ad57-4c45-d5f4-a0d4ded1b3cc"
      }
    },
    {
      "cell_type": "code",
      "execution_count": 38,
      "source": [
        "sales"
      ],
      "outputs": [
        {
          "output_type": "execute_result",
          "data": {
            "text/plain": [
              "{'1': {'bill': 500,\n",
              "  'pr': 100,\n",
              "  'pr_name': 'Choco Cake',\n",
              "  'prod_id': '1001',\n",
              "  'qn': 5,\n",
              "  'time_pr': 'Wed Sep  8 12:12:56 2021'}}"
            ]
          },
          "metadata": {},
          "execution_count": 38
        }
      ],
      "metadata": {
        "colab": {
          "base_uri": "https://localhost:8080/"
        },
        "id": "EOJ8rML9UElB",
        "outputId": "7fff74dc-0a05-45c8-f1fe-5f4ca25300f3"
      }
    },
    {
      "cell_type": "code",
      "execution_count": null,
      "source": [],
      "outputs": [],
      "metadata": {
        "id": "hl2MXdg0U3l_"
      }
    }
  ]
}